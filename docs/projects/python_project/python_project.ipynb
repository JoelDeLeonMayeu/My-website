{
 "cells": [
  {
   "cell_type": "markdown",
   "metadata": {},
   "source": []
  },
  {
   "cell_type": "markdown",
   "metadata": {},
   "source": [
    "## Python project\n",
    "\n",
    "Here's a code to draw a cool image that looks like it was produce by a spirograph using:\n",
    "```python\n",
    "import numpy as np\n",
    "```"
   ]
  },
  {
   "cell_type": "code",
   "execution_count": 4,
   "metadata": {},
   "outputs": [],
   "source": [
    "# -*- coding: utf-8 -*-\n",
    "import matplotlib.pyplot as plt\n",
    "import numpy as np\n",
    "\n",
    "#début de la définition de ma fonction\n",
    "def Spirographe(R, r, d, phi=0, color='k'):\n",
    "    \n",
    "    #listes des coordonnées des points de la courbe\n",
    "    x=[]\n",
    "    y=[]\n",
    "    \n",
    "    #création de ma variable m pour trouver n plus tard\n",
    "    m=1\n",
    "    \n",
    "    #boucle pour trouver n (voir formules dans le labo)\n",
    "    while True:\n",
    "        \n",
    "        #On vérifie si les données entrées par l'utilisateur\n",
    "        #sont trop grosses. Si oui, la fonction renvoit un\n",
    "        #message d'erreur et arrête la boucle.\n",
    "        if r>1000 or R>1000 or d>1000:\n",
    "            print('Erreur: données trop larges')\n",
    "            n=0\n",
    "            break\n",
    "        \n",
    "        #Équation à résoudre pour trouver n\n",
    "        n=r/(R-r)*m\n",
    "        \n",
    "        #Si n est un nombre entier (pas de reste lorsqu'on\n",
    "        #divise par 0), on a réussit! On garde la valeur\n",
    "        #qu'on a présentement et on coupe la boucle\n",
    "        if n%1==0:\n",
    "            break\n",
    "        \n",
    "        #Si n n'est pas un nombre entier, on augmente la \n",
    "        #valeur de m de 1 et on recommence!\n",
    "        else:\n",
    "            m+=1\n",
    "            \n",
    "    #On veut faire des calculs avec n donc...\n",
    "    n=int(n)\n",
    "    \n",
    "    #Honnêtement, je pensais qu'on était OBLIGÉ de travailler \n",
    "    #avec les arrays alors voilà\n",
    "    x=np.array(x)\n",
    "    y=np.array(y)\n",
    "    \n",
    "    #mon choix de nombre de pas pour theta est 1 par degré\n",
    "    theta=0\n",
    "    for i in range(360*n+1):\n",
    "        theta+=1\n",
    "        \n",
    "        #création de mes tableaux de coordonées des points\n",
    "        #à 'plot'\n",
    "        x=np.append(x, (R-r)*np.cos(np.radians(theta)) + d*np.cos(np.radians(-(R-r)/r*theta+phi)))\n",
    "        y=np.append(y, (R-r)*np.sin(np.radians(theta)) + d*np.sin(np.radians(-(R-r)/r*theta+phi)))\n",
    "    \n",
    "    #la dernière étape de la fonction est de faire appel\n",
    "    #à la fonction 'plot' pour dessiner nos courbes\n",
    "    plt.plot(x, y, color)\n",
    "\n",
    "#Commandes pour créer le dessin demandé\n",
    "Spirographe(240, 100, 80, color='midnightblue')\n",
    "Spirographe(252, 105, 80, color='royalblue', phi=20)\n",
    "Spirographe(264, 110, 80, color='yellowgreen', phi=40)\n",
    "Spirographe(252, 105, 80, color='royalblue', phi=60)\n",
    "Spirographe(60, 35, 20, color='olive')\n",
    "Spirographe(70, 15, 10, color='midnightblue')\n",
    "\n",
    "#Les axes seront gradués de la même manière (pas d'effet\n",
    "#'étiré')\n",
    "plt.axis('equal')\n",
    "\n",
    "#Les axes disparaissent du dessin\n",
    "plt.axis('off')\n",
    "\n",
    "plt.savefig('spirographe.png')\n"
   ]
}
,
  {
   "cell_type": "code",
   "execution_count": null,
   "metadata": {},
   "outputs": [],
   "source": []
  }
 ],
 "metadata": {
  "kernelspec": {
   "display_name": "website",
   "language": "python",
   "name": "python3"
  },
  "language_info": {
   "codemirror_mode": {
    "name": "ipython",
    "version": 3
   },
   "file_extension": ".py",
   "mimetype": "text/x-python",
   "name": "python",
   "nbconvert_exporter": "python",
   "pygments_lexer": "ipython3",
   "version": "3.11.5"
  }
 },
 "nbformat": 4,
 "nbformat_minor": 2
}



